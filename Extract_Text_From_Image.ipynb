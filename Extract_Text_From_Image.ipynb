{
  "cells": [
    {
      "cell_type": "code",
      "execution_count": null,
      "id": "25a33723",
      "metadata": {
        "id": "25a33723"
      },
      "outputs": [],
      "source": [
        "import cv2\n",
        "import pytesseract"
      ]
    },
    {
      "cell_type": "code",
      "execution_count": null,
      "id": "0c4d465f",
      "metadata": {
        "id": "0c4d465f"
      },
      "outputs": [],
      "source": [
        "# give path to pytesseract with tesseract location\n",
        "pytesseract.pytesseract.tesseract_cmd=r'C:\\Program Files (x86)\\Tesseract-OCR\\tesseract.exe'\n"
      ]
    },
    {
      "cell_type": "code",
      "execution_count": null,
      "id": "0d2bf446",
      "metadata": {
        "id": "0d2bf446"
      },
      "outputs": [],
      "source": [
        "#To read image file\n",
        "img=cv2.imread(r\"C:\\Users\\shraddha\\invoice2.png\")"
      ]
    },
    {
      "cell_type": "code",
      "execution_count": null,
      "id": "d9963f53",
      "metadata": {
        "id": "d9963f53",
        "outputId": "2cb3c05c-e988-4ff6-d95d-d1343e7e4203"
      },
      "outputs": [
        {
          "data": {
            "image/png": "[encoded data removed]",
            "text/plain": [
              "<Figure size 432x288 with 1 Axes>"
            ]
          },
          "metadata": {
            "needs_background": "light"
          },
          "output_type": "display_data"
        }
      ],
      "source": [
        "import matplotlib.pyplot as plt\n",
        "plt.imshow(img)\n",
        "plt.axis('off')\n",
        "plt.show()"
      ]
    },
    {
      "cell_type": "code",
      "execution_count": null,
      "id": "a7975ffd",
      "metadata": {
        "id": "a7975ffd",
        "outputId": "2a8bc2d5-4c7a-4529-c406-939a19b268b0"
      },
      "outputs": [
        {
          "name": "stdout",
          "output_type": "stream",
          "text": [
            "INVOICE\n",
            "\n",
            "East Repair Inc.\n",
            "1912 Harvest Lane\n",
            "New York, NY 12210\n",
            "\n",
            " \n",
            "\n",
            " \n",
            "\n",
            "BILLTO SHIPTO INVOICE # us-001\n",
            "John Smith John Smith INVOICE DATE 1110212019\n",
            "2 Court Square 3787 Pineview Drive Post\n",
            "\n",
            "New York, NY 12210 Cambridge, MA 12210 i 2312/2019\n",
            "DUE DATE 26/02/2019\n",
            "\n",
            "ay DESCRIPTION UNIT PRICE AMOUNT\n",
            "\n",
            "1 Front and rear brake cables 100.00 100.00\n",
            "\n",
            "2 Newset of pedal arms 15.00 30.00\n",
            "\n",
            "3 Labor Shrs 5.00 1.00\n",
            "\n",
            "Subtotal 145.00\n",
            "\n",
            "Sales Tax 6.25% 9.06\n",
            "\n",
            "TOTAL $154.06\n",
            "\n",
            "Shank you\n",
            "\n",
            "Smith\n",
            "\n",
            "TERMS & CONDITIONS\n",
            "\n",
            "Payment is due within 15 days\n",
            "\n",
            "Please make checks payable to: East Repair Inc.\n",
            "\f",
            "\n"
          ]
        }
      ],
      "source": [
        "#To extract Text from this image\n",
        "txt=pytesseract.image_to_string(img)\n",
        "print(txt)"
      ]
    },
    {
      "cell_type": "code",
      "execution_count": null,
      "id": "4e62b485",
      "metadata": {
        "id": "4e62b485",
        "outputId": "ee45bd90-0eac-4166-81a9-c045294e461a"
      },
      "outputs": [
        {
          "name": "stdout",
          "output_type": "stream",
          "text": [
            ".\n",
            "1912\n",
            "12210\n",
            "-001\n",
            "1110212019\n",
            "2 3787 .\n",
            "12210 12210 23122019\n",
            "2610212019\n",
            "1- 100.00 100.00\n",
            "2 15.00 30.00\n",
            "33 5.00 1.00\n",
            "145.00\n",
            "6.25 9.06\n",
            "154.06\n",
            "6\n",
            ".15\n",
            "\f",
            "\n"
          ]
        }
      ],
      "source": [
        "#Detect only digits\n",
        "from pytesseract import Output\n",
        "custom_config = r'--oem 3 --psm 6 outputbase digits'\n",
        "txt=pytesseract.image_to_string(img, config=custom_config)\n",
        "print(txt)\n"
      ]
    },
    {
      "cell_type": "code",
      "execution_count": null,
      "id": "577b3fbd",
      "metadata": {
        "id": "577b3fbd",
        "outputId": "90331983-68a0-409d-aa8a-d27b11ebed23"
      },
      "outputs": [
        {
          "name": "stdout",
          "output_type": "stream",
          "text": [
            "dict_keys(['level', 'page_num', 'block_num', 'par_num', 'line_num', 'word_num', 'left', 'top', 'width', 'height', 'conf', 'text'])\n"
          ]
        }
      ],
      "source": [
        "d = pytesseract.image_to_data(img, output_type=Output.DICT)\n",
        "print(d.keys())"
      ]
    },
    {
      "cell_type": "code",
      "execution_count": null,
      "id": "ace51fa0",
      "metadata": {
        "id": "ace51fa0",
        "outputId": "5fc3275c-f965-4e4a-997d-1fcb05d0f3cd"
      },
      "outputs": [
        {
          "name": "stdout",
          "output_type": "stream",
          "text": [
            "['', '', '', '', 'INVOICE', '', '', '', 'East', 'Repair', 'Inc.', '', '1912', 'Harvest', 'Lane', '', 'New', 'York,', 'NY', '12210', '', '', '', ' ', '', '', '', ' ', '', '', '', 'BILLTO', 'SHIPTO', 'INVOICE', '#', 'us-001', '', 'John', 'Smith', 'John', 'Smith', 'INVOICE', 'DATE', '1110212019', '', '2', 'Court', 'Square', '3787', 'Pineview', 'Drive', 'Post', '', '', 'New', 'York,', 'NY', '12210', 'Cambridge,', 'MA', '12210', 'i', '2312/2019', '', 'DUE', 'DATE', '26/02/2019', '', '', 'ay', 'DESCRIPTION', 'UNIT', 'PRICE', 'AMOUNT', '', '', '1', 'Front', 'and', 'rear', 'brake', 'cables', '100.00', '100.00', '', '', '2', 'Newset', 'of', 'pedal', 'arms', '15.00', '30.00', '', '', '3', 'Labor', 'Shrs', '5.00', '1.00', '', '', 'Subtotal', '145.00', '', '', 'Sales', 'Tax', '6.25%', '9.06', '', '', 'TOTAL', '$154.06', '', '', '', 'Shank', 'you', '', '', '', 'Smith', '', '', '', 'TERMS', '&', 'CONDITIONS', '', '', '', 'Payment', 'is', 'due', 'within', '15', 'days', '', '', '', 'Please', 'make', 'checks', 'payable', 'to:', 'East', 'Repair', 'Inc.']\n"
          ]
        }
      ],
      "source": [
        "print(d['text'])"
      ]
    },
    {
      "cell_type": "code",
      "execution_count": null,
      "id": "e75d334e",
      "metadata": {
        "id": "e75d334e"
      },
      "outputs": [],
      "source": []
    },
    {
      "cell_type": "code",
      "execution_count": null,
      "id": "44472f26",
      "metadata": {
        "id": "44472f26"
      },
      "outputs": [],
      "source": []
    }
  ],
  "metadata": {
    "kernelspec": {
      "display_name": "Python 3",
      "language": "python",
      "name": "python3"
    },
    "language_info": {
      "codemirror_mode": {
        "name": "ipython",
        "version": 3
      },
      "file_extension": ".py",
      "mimetype": "text/x-python",
      "name": "python",
      "nbconvert_exporter": "python",
      "pygments_lexer": "ipython3",
      "version": "3.8.8"
    },
    "colab": {
      "provenance": []
    }
  },
  "nbformat": 4,
  "nbformat_minor": 5
}